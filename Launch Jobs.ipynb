{
 "cells": [
  {
   "cell_type": "code",
   "execution_count": 2,
   "id": "c58bb8f5",
   "metadata": {},
   "outputs": [
    {
     "name": "stdout",
     "output_type": "stream",
     "text": [
      "The autoreload extension is already loaded. To reload it, use:\n",
      "  %reload_ext autoreload\n"
     ]
    }
   ],
   "source": [
    "%load_ext autoreload\n",
    "%autoreload 2\n",
    "\n",
    "import numpy as np\n",
    "import tensorflow as tf\n",
    "\n",
    "import sys\n",
    "\n",
    "import os\n",
    "import subprocess\n",
    "import pandas as pd\n",
    "import numpy as np"
   ]
  },
  {
   "cell_type": "code",
   "execution_count": 12,
   "id": "20a829e8",
   "metadata": {},
   "outputs": [
    {
     "name": "stdout",
     "output_type": "stream",
     "text": [
      "Submitted batch job 14489603\n",
      "Submitted batch job 14489604\n",
      "Submitted batch job 14489605\n",
      "Submitted batch job 14489606\n",
      "Submitted batch job 14489607\n",
      "Submitted batch job 14489608\n",
      "Submitted batch job 14489609\n",
      "Submitted batch job 14489610\n",
      "Submitted batch job 14489611\n",
      "Submitted batch job 14489612\n",
      "Submitted batch job 14489613\n",
      "Submitted batch job 14489614\n",
      "Submitted batch job 14489615\n",
      "Submitted batch job 14489616\n",
      "Submitted batch job 14489617\n",
      "Submitted batch job 14489618\n",
      "Submitted batch job 14489619\n",
      "Submitted batch job 14489620\n",
      "Submitted batch job 14489621\n",
      "Submitted batch job 14489622\n",
      "Submitted batch job 14489623\n",
      "Submitted batch job 14489624\n",
      "Submitted batch job 14489625\n",
      "Submitted batch job 14489626\n",
      "Submitted batch job 14489627\n",
      "Submitted batch job 14489628\n",
      "Submitted batch job 14489629\n",
      "Submitted batch job 14489630\n",
      "Submitted batch job 14489631\n",
      "Submitted batch job 14489632\n",
      "Submitted batch job 14489633\n",
      "Submitted batch job 14489634\n",
      "Submitted batch job 14489635\n",
      "Submitted batch job 14489636\n",
      "Submitted batch job 14489637\n",
      "Submitted batch job 14489638\n",
      "Submitted batch job 14489639\n",
      "Submitted batch job 14489640\n",
      "Submitted batch job 14489641\n",
      "Submitted batch job 14489642\n",
      "Submitted batch job 14489643\n",
      "Submitted batch job 14489644\n",
      "Submitted batch job 14489645\n",
      "Submitted batch job 14489646\n",
      "Submitted batch job 14489647\n",
      "Submitted batch job 14489648\n",
      "Submitted batch job 14489649\n",
      "Submitted batch job 14489650\n",
      "Submitted batch job 14489651\n",
      "Submitted batch job 14489652\n",
      "Submitted batch job 14489653\n",
      "Submitted batch job 14489654\n",
      "Submitted batch job 14489655\n",
      "Submitted batch job 14489656\n",
      "Submitted batch job 14489657\n",
      "Submitted batch job 14489658\n",
      "Submitted batch job 14489659\n",
      "Submitted batch job 14489660\n",
      "Submitted batch job 14489661\n",
      "Submitted batch job 14489662\n",
      "Submitted batch job 14489663\n",
      "Submitted batch job 14489664\n",
      "Submitted batch job 14489665\n",
      "Submitted batch job 14489666\n"
     ]
    }
   ],
   "source": [
    "for learning_rate in [0.01, 0.001, 1e-4, 1e-5]:\n",
    "    for embedding_size in [ 16, 64, 128 , 512]:\n",
    "        for dropout_rate in [0, 0.05, 0.1, 0.2]:\n",
    "            log_dir = f'/cluster/tufts/hugheslab/kheuto01/dota/logs/emb_{embedding_size}/dr_{dropout_rate}/lr_{learning_rate}/'\n",
    "            \n",
    "            if not os.path.exists(log_dir):\n",
    "                os.makedirs(log_dir)\n",
    "            \n",
    "            arg_parts = [\n",
    "                    f\"--log_dir {log_dir}\",\n",
    "                f\"--learning_rate {learning_rate}\",\n",
    "                f\"--embedding_size {embedding_size}\",\n",
    "                f\"--dropout_rate {dropout_rate}\",\n",
    "                    ]\n",
    "            arg_cmd = ' '.join(arg_parts)\n",
    "            command = (f\"args='{arg_cmd}' sbatch < /cluster/home/kheuto01/code/moba_preds/run_experiment.slurm\")\n",
    "            subprocess.run(command, shell=True, check=True)"
   ]
  },
  {
   "cell_type": "code",
   "execution_count": 4,
   "id": "a05d0fd6",
   "metadata": {},
   "outputs": [
    {
     "data": {
      "text/plain": [
       "\"args='--log_dir /cluster/tufts/hugheslab/kheuto01/dota/logs/emb_16/dr_0/lr_0.01/ --learning_rate 0.01 --embedding_size 16 --dropout_rate 0' sbatch < /cluster/home/kheuto01/code/moba_preds/run_experiment.slurm\""
      ]
     },
     "execution_count": 4,
     "metadata": {},
     "output_type": "execute_result"
    }
   ],
   "source": [
    "command"
   ]
  },
  {
   "cell_type": "code",
   "execution_count": null,
   "id": "44ed1e26",
   "metadata": {},
   "outputs": [],
   "source": []
  }
 ],
 "metadata": {
  "kernelspec": {
   "display_name": "Python 3 (ipykernel)",
   "language": "python",
   "name": "python3"
  },
  "language_info": {
   "codemirror_mode": {
    "name": "ipython",
    "version": 3
   },
   "file_extension": ".py",
   "mimetype": "text/x-python",
   "name": "python",
   "nbconvert_exporter": "python",
   "pygments_lexer": "ipython3",
   "version": "3.9.12"
  }
 },
 "nbformat": 4,
 "nbformat_minor": 5
}
